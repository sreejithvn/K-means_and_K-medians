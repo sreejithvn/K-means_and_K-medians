{
 "cells": [
  {
   "cell_type": "code",
   "execution_count": 2,
   "metadata": {
    "id": "jzhTuyxUbeIf"
   },
   "outputs": [],
   "source": [
    "import pandas as pd\n",
    "import numpy as np\n",
    "from copy import deepcopy\n",
    "\n",
    "\n",
    "# SEED = np.random.randint(100)\n",
    "np.random.seed(53)"
   ]
  },
  {
   "cell_type": "code",
   "execution_count": 3,
   "metadata": {
    "id": "aW5sfezMbxDO"
   },
   "outputs": [],
   "source": [
    "data1 = pd.read_csv('CA2Data/animals', header=None, delimiter=' ')\n",
    "data2 = pd.read_csv('CA2Data/countries', header=None, delimiter=' ')\n",
    "data3 = pd.read_csv('CA2Data/fruits', header=None, delimiter=' ')\n",
    "data4 = pd.read_csv('CA2Data/veggies', header=None, delimiter=' ')\n",
    "data1[0] = 1\n",
    "data2[0] = 2\n",
    "data3[0] = 3\n",
    "data4[0] = 4\n",
    "\n",
    "dataset = pd.concat([data1, data2, data3, data4])\n",
    "# print(data1.shape, data2.shape, data3.shape, data4.shape)\n",
    "# dataset = pd.concat([data1.iloc[:,1:], data2.iloc[:,1:], data3.iloc[:,1:], data4.iloc[:,1:]])"
   ]
  },
  {
   "cell_type": "code",
   "execution_count": 4,
   "metadata": {
    "code_folding": [],
    "colab": {
     "base_uri": "https://localhost:8080/",
     "height": 487
    },
    "id": "qW1ApX4WcZ8F",
    "outputId": "dc05fb76-0fb4-45c4-d325-27246304e372"
   },
   "outputs": [
    {
     "data": {
      "text/html": [
       "<div>\n",
       "<style scoped>\n",
       "    .dataframe tbody tr th:only-of-type {\n",
       "        vertical-align: middle;\n",
       "    }\n",
       "\n",
       "    .dataframe tbody tr th {\n",
       "        vertical-align: top;\n",
       "    }\n",
       "\n",
       "    .dataframe thead th {\n",
       "        text-align: right;\n",
       "    }\n",
       "</style>\n",
       "<table border=\"1\" class=\"dataframe\">\n",
       "  <thead>\n",
       "    <tr style=\"text-align: right;\">\n",
       "      <th></th>\n",
       "      <th>0</th>\n",
       "      <th>index</th>\n",
       "    </tr>\n",
       "  </thead>\n",
       "  <tbody>\n",
       "    <tr>\n",
       "      <th>0</th>\n",
       "      <td>1</td>\n",
       "      <td>0</td>\n",
       "    </tr>\n",
       "    <tr>\n",
       "      <th>1</th>\n",
       "      <td>1</td>\n",
       "      <td>1</td>\n",
       "    </tr>\n",
       "    <tr>\n",
       "      <th>2</th>\n",
       "      <td>1</td>\n",
       "      <td>2</td>\n",
       "    </tr>\n",
       "    <tr>\n",
       "      <th>3</th>\n",
       "      <td>1</td>\n",
       "      <td>3</td>\n",
       "    </tr>\n",
       "    <tr>\n",
       "      <th>4</th>\n",
       "      <td>1</td>\n",
       "      <td>4</td>\n",
       "    </tr>\n",
       "    <tr>\n",
       "      <th>...</th>\n",
       "      <td>...</td>\n",
       "      <td>...</td>\n",
       "    </tr>\n",
       "    <tr>\n",
       "      <th>322</th>\n",
       "      <td>4</td>\n",
       "      <td>322</td>\n",
       "    </tr>\n",
       "    <tr>\n",
       "      <th>323</th>\n",
       "      <td>4</td>\n",
       "      <td>323</td>\n",
       "    </tr>\n",
       "    <tr>\n",
       "      <th>324</th>\n",
       "      <td>4</td>\n",
       "      <td>324</td>\n",
       "    </tr>\n",
       "    <tr>\n",
       "      <th>325</th>\n",
       "      <td>4</td>\n",
       "      <td>325</td>\n",
       "    </tr>\n",
       "    <tr>\n",
       "      <th>326</th>\n",
       "      <td>4</td>\n",
       "      <td>326</td>\n",
       "    </tr>\n",
       "  </tbody>\n",
       "</table>\n",
       "<p>327 rows × 2 columns</p>\n",
       "</div>"
      ],
      "text/plain": [
       "     0  index\n",
       "0    1      0\n",
       "1    1      1\n",
       "2    1      2\n",
       "3    1      3\n",
       "4    1      4\n",
       "..  ..    ...\n",
       "322  4    322\n",
       "323  4    323\n",
       "324  4    324\n",
       "325  4    325\n",
       "326  4    326\n",
       "\n",
       "[327 rows x 2 columns]"
      ]
     },
     "execution_count": 4,
     "metadata": {},
     "output_type": "execute_result"
    }
   ],
   "source": [
    "dataset = dataset.reset_index(drop=True)\n",
    "# dataset.insert(loc=0, column=301, value=dataset.index)\n",
    "index_data = pd.DataFrame(dataset, columns=[0])\n",
    "index_data['index'] = index_data.index\n",
    "\n",
    "dataset.drop(columns=[0], inplace=True)\n",
    "dataset\n",
    "index_data"
   ]
  },
  {
   "cell_type": "code",
   "execution_count": 5,
   "metadata": {
    "colab": {
     "base_uri": "https://localhost:8080/"
    },
    "id": "YeCXwoSQg7wp",
    "outputId": "4eca887a-e25c-4bb9-897b-e8e5b2ec954c"
   },
   "outputs": [
    {
     "data": {
      "text/plain": [
       "327"
      ]
     },
     "execution_count": 5,
     "metadata": {},
     "output_type": "execute_result"
    }
   ],
   "source": [
    "dataset = np.array(dataset)\n",
    "dataset.shape\n",
    "len(dataset)"
   ]
  },
  {
   "cell_type": "code",
   "execution_count": 6,
   "metadata": {
    "code_folding": []
   },
   "outputs": [],
   "source": [
    "# K-mean * K-medians\n",
    "\n",
    "def euclidean_distance(X,Y):\n",
    "    # Return the Euclidean distance between X and Y\n",
    "    return np.linalg.norm(X-Y)\n",
    "\n",
    "\n",
    "def manhattan_distance(X,Y):\n",
    "    # Return the Manhattan distance between X and Y\n",
    "    # return np.abs(X-Y).sum()\n",
    "    return np.sum(np.abs(X-Y))\n",
    "\n",
    "\n",
    "def check_convergence(k_means, k_medians):\n",
    "\n",
    "    # if k_means:\n",
    "    #     np.sum()\n",
    "    pass\n",
    "\n",
    "\n",
    "def get_centroid_positions(k_means, k_medians):\n",
    "    # Initialise 'clusters', to later store the centroid index value to the corresponding datapoint index\n",
    "    clusters = np.zeros((len(dataset),1))\n",
    "    num_datapoints = len(dataset)\n",
    "\n",
    "    # loop through each datapoint\n",
    "    for index in range(num_datapoints):\n",
    "        # Initialise 'distances', to store the 'distance' value from each centroid to the datapoint\n",
    "        distances = np.zeros((num_centroids, 1))\n",
    "        # Loop through each centroid\n",
    "        for centroid_index in range(num_centroids):\n",
    "            if k_means:\n",
    "                # for k-means, find the eucledian distance from the datapoint to each centroid\n",
    "                distance_to_centroid = euclidean_distance(dataset[index, :], centroids[centroid_index, :])\n",
    "                # update the 'distance' value to the 'distances' array\n",
    "                distances[centroid_index] = distance_to_centroid\n",
    "\n",
    "            elif k_medians:\n",
    "                # for k-medians, find the manhattan distance from the datapoint to each centroid\n",
    "                distance_to_centroid = manhattan_distance(dataset[index, :], centroids[centroid_index, :])\n",
    "                # update the 'distance' value to the 'distances' array\n",
    "                distances[centroid_index] = distance_to_centroid\n",
    "\n",
    "        # Get the closest centroids index value\n",
    "        closest_centroid_index = np.argmin(distances)\n",
    "        # Assign the closest centroid index value to the corresponding datapoint index (in the 'clusters' array)\n",
    "        clusters[index] = closest_centroid_index\n",
    "#     print(clusters)\n",
    "    return clusters"
   ]
  },
  {
   "cell_type": "code",
   "execution_count": 7,
   "metadata": {
    "code_folding": []
   },
   "outputs": [
    {
     "name": "stdout",
     "output_type": "stream",
     "text": [
      "\n",
      "KMeans Centroids from computed for k = 4:\n",
      "[[-0.07048999 -0.20060509 -0.26966388 ... -0.1941668   0.06881185\n",
      "   0.18472587]\n",
      " [-0.11743746 -0.11042181 -0.0659227  ... -0.10309246 -0.21821709\n",
      "   0.1395143 ]\n",
      " [-0.23255197 -0.09005632  0.09137848 ... -0.44305674 -0.06855837\n",
      "   0.05151326]\n",
      " [ 0.38627178  0.3143458   0.05909229 ...  0.09175967  0.11883499\n",
      "   0.25313992]]\n",
      "\n",
      "\n",
      "Output from SKLEARN\n",
      "[[-0.23340746 -0.0955901   0.07988927 ... -0.43806341 -0.06295059\n",
      "   0.05672025]\n",
      " [ 0.38627178  0.3143458   0.05909229 ...  0.09175967  0.11883498\n",
      "   0.25313992]\n",
      " [-0.10709906 -0.10474646 -0.06334103 ... -0.08248652 -0.23759206\n",
      "   0.13968116]\n",
      " [-0.07048999 -0.20060509 -0.26966388 ... -0.1941668   0.06881185\n",
      "   0.18472587]]\n"
     ]
    }
   ],
   "source": [
    "\n",
    "import pandas as pd\n",
    "import numpy as np\n",
    "from copy import deepcopy\n",
    "\n",
    "SEED = np.random.randint(100)\n",
    "np.random.seed(53)\n",
    "# print(SEED)\n",
    "# 53, 40, 18\n",
    "\n",
    "# import data\n",
    "data1 = pd.read_csv('CA2Data/animals', header=None, delimiter=' ')\n",
    "data2 = pd.read_csv('CA2Data/countries', header=None, delimiter=' ')\n",
    "data3 = pd.read_csv('CA2Data/fruits', header=None, delimiter=' ')\n",
    "data4 = pd.read_csv('CA2Data/veggies', header=None, delimiter=' ')\n",
    "# dataset = pd.concat([data1, data2, data3, data4])\n",
    "\n",
    "# concatenate data points\n",
    "dataset = pd.concat([data1.iloc[:,1:], data2.iloc[:,1:], data3.iloc[:,1:], data4.iloc[:,1:]])\n",
    "\n",
    "# convert data set to numpy array\n",
    "dataset = np.array(dataset)\n",
    "\n",
    "# choose 'k' for number of clusters \n",
    "k=4\n",
    "num_centroids = k\n",
    "\n",
    "# Initialise 'k' centroids (y1, .. yk) randomly from the data set\n",
    "centroids = dataset[np.random.randint(dataset.shape[0], size=num_centroids), :]\n",
    "\n",
    "# To only run K_means\n",
    "k_means = True\n",
    "k_medians = False\n",
    "\n",
    "# To only run K_medians\n",
    "# k_means = False\n",
    "# k_medians = True\n",
    "\n",
    "\n",
    "#### update centroids based on new cluster data\n",
    "for _ in range(1000):\n",
    "    # if check_convergence():\n",
    "    #     break\n",
    "    num_centroids = k\n",
    "\n",
    "    # for the current iteration, get the centroids (index value) assigned to the corresponding datapoints index\n",
    "    clusters = get_centroid_positions(k_means, k_medians)\n",
    "    data = deepcopy(dataset)\n",
    "\n",
    "    # Iterate over the centroids, to update them based on the updated cluster data\n",
    "    for centroid_index in range(num_centroids):\n",
    "        if k_means:\n",
    "            # Compute the mean of each cluster, and set them as the new centroids\n",
    "            centroids[centroid_index] = np.mean(data[clusters.flatten() == centroid_index], axis=0)\n",
    "        elif k_medians:\n",
    "            # Compute the median of each cluster, and set them as the new centroids\n",
    "            centroids[centroid_index] = np.median(data[clusters.flatten() == centroid_index], axis=0)\n",
    "\n",
    "print(\"\\nKMeans Centroids from computed for k = 4:\")\n",
    "print(centroids)\n",
    "\n",
    "#### ******************* IGNORE CODE BELOW ********************\n",
    "\n",
    "#### TESTING THE CODE\n",
    "\n",
    "from sklearn.cluster import KMeans\n",
    "\n",
    "model = KMeans(n_clusters=k)\n",
    "model.fit(data)\n",
    "print(\"\\n\\nOutput from SKLEARN\")\n",
    "print(model.cluster_centers_)"
   ]
  },
  {
   "cell_type": "code",
   "execution_count": 8,
   "metadata": {},
   "outputs": [
    {
     "name": "stdout",
     "output_type": "stream",
     "text": [
      "[[ 1.   2.   3. ]\n",
      " [ 2.3  5.2  6. ]\n",
      " [ 9.  11.   7. ]]\n"
     ]
    },
    {
     "data": {
      "text/plain": [
       "array([2.3, 5.2, 6. ])"
      ]
     },
     "execution_count": 8,
     "metadata": {},
     "output_type": "execute_result"
    }
   ],
   "source": [
    "d = np.array([[1,2,3], \n",
    "              [2.3,5.2,6],\n",
    "              [9,11,7]])\n",
    "print(d)\n",
    "np.median(d, axis=0)"
   ]
  },
  {
   "cell_type": "code",
   "execution_count": null,
   "metadata": {},
   "outputs": [],
   "source": []
  }
 ],
 "metadata": {
  "colab": {
   "collapsed_sections": [],
   "name": "k-means-clustering.ipynb",
   "provenance": []
  },
  "hide_input": false,
  "kernelspec": {
   "display_name": "Python 3 (ipykernel)",
   "language": "python",
   "name": "python3"
  },
  "language_info": {
   "codemirror_mode": {
    "name": "ipython",
    "version": 3
   },
   "file_extension": ".py",
   "mimetype": "text/x-python",
   "name": "python",
   "nbconvert_exporter": "python",
   "pygments_lexer": "ipython3",
   "version": "3.9.7"
  },
  "toc": {
   "base_numbering": 1,
   "nav_menu": {},
   "number_sections": true,
   "sideBar": true,
   "skip_h1_title": false,
   "title_cell": "Table of Contents",
   "title_sidebar": "Contents",
   "toc_cell": false,
   "toc_position": {},
   "toc_section_display": true,
   "toc_window_display": false
  }
 },
 "nbformat": 4,
 "nbformat_minor": 1
}
