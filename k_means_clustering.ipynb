{
 "cells": [
  {
   "cell_type": "code",
   "execution_count": 1,
   "metadata": {},
   "outputs": [],
   "source": [
    "!jt -t chesterish -cellw 88% -T -N\n",
    "\n",
    "from jupyterthemes import jtplot\n",
    "jtplot.style()"
   ]
  },
  {
   "cell_type": "code",
   "execution_count": 240,
   "metadata": {
    "id": "jzhTuyxUbeIf"
   },
   "outputs": [],
   "source": [
    "import pandas as pd\n",
    "import numpy as np\n",
    "import matplotlib.pyplot as plt\n",
    "from copy import deepcopy\n",
    "\n",
    "MAX_ITER = 2\n",
    "K_MAX = 9\n",
    "# SEED = np.random.randint(100)\n",
    "# np.random.seed(53)"
   ]
  },
  {
   "cell_type": "code",
   "execution_count": 241,
   "metadata": {
    "id": "aW5sfezMbxDO"
   },
   "outputs": [],
   "source": [
    "animals = pd.read_csv('CA2Data/animals', header=None, delimiter=' ')\n",
    "countries = pd.read_csv('CA2Data/countries', header=None, delimiter=' ')\n",
    "fruits = pd.read_csv('CA2Data/fruits', header=None, delimiter=' ')\n",
    "veggies = pd.read_csv('CA2Data/veggies', header=None, delimiter=' ')\n",
    "# Assign numerical 'category' values corresponding to true labels\n",
    "animals[0] = 0\n",
    "countries[0] = 1\n",
    "fruits[0] = 2\n",
    "veggies[0] = 3\n",
    "\n",
    "dataset = pd.concat([animals, countries, fruits, veggies], ignore_index=True)\n",
    "# dataset"
   ]
  },
  {
   "cell_type": "code",
   "execution_count": 242,
   "metadata": {
    "code_folding": []
   },
   "outputs": [
    {
     "data": {
      "text/plain": [
       "(327, 1)"
      ]
     },
     "execution_count": 242,
     "metadata": {},
     "output_type": "execute_result"
    }
   ],
   "source": [
    "# store category data to compute metrics\n",
    "# category = np.array(dataset[0])\n",
    "category = np.array(dataset[0]).reshape(-1,1)\n",
    "category.shape"
   ]
  },
  {
   "cell_type": "code",
   "execution_count": 243,
   "metadata": {},
   "outputs": [],
   "source": [
    "# drop category column\n",
    "dataset.drop(columns=[0], inplace=True)\n",
    "# dataset"
   ]
  },
  {
   "cell_type": "code",
   "execution_count": 244,
   "metadata": {
    "colab": {
     "base_uri": "https://localhost:8080/"
    },
    "id": "YeCXwoSQg7wp",
    "outputId": "4eca887a-e25c-4bb9-897b-e8e5b2ec954c"
   },
   "outputs": [
    {
     "data": {
      "text/plain": [
       "(327, 300)"
      ]
     },
     "execution_count": 244,
     "metadata": {},
     "output_type": "execute_result"
    }
   ],
   "source": [
    "data = np.array(dataset)\n",
    "data.shape"
   ]
  },
  {
   "cell_type": "code",
   "execution_count": 249,
   "metadata": {
    "code_folding": []
   },
   "outputs": [],
   "source": [
    "# K-mean * K-medians\n",
    "\n",
    "def normalise_data(data):\n",
    "    c = np.linalg.norm(data,axis=1).reshape(-1,1)\n",
    "    return (1/c)*data\n",
    "\n",
    "\n",
    "def euclidean_distance(X,Y):\n",
    "    # Return the Euclidean distance between X and Y\n",
    "    # return np.sqrt(np.sum((X-Y)**2))\n",
    "    return np.linalg.norm(X-Y)\n",
    "\n",
    "\n",
    "def manhattan_distance(X,Y):\n",
    "    # Return the Manhattan distance between X and Y\n",
    "    # return np.abs(X-Y).sum()\n",
    "    return np.sum(np.abs(X-Y))\n",
    "\n",
    "\n",
    "def check_convergence(k_means, k_medians):\n",
    "    # if k_means:\n",
    "    #     np.sum()\n",
    "    pass\n",
    "\n",
    "\n",
    "def fit_model(k, MAX_ITER):\n",
    "    np.random.seed(53)\n",
    "    num_centroids = k\n",
    "    print(f'k: {k}')\n",
    "    # Initialise 'k' centroids (y1, .. yk) randomly from the data set\n",
    "    centroids = data[np.random.randint(data.shape[0], size=num_centroids), :]\n",
    "#     print(f'length centroids {len(centroids)}')\n",
    "#     print('Initial centroids\\n', centroids[:,:5])\n",
    "\n",
    "    for _ in range(MAX_ITER):\n",
    "        # if check_convergence():\n",
    "        #     break\n",
    "        \n",
    "        # for the current iteration, get the centroids (index value) assigned to the corresponding datapoints index\n",
    "        clusters = group_data_to_cluster(centroids)\n",
    "        # get updated centroids for current iteration\n",
    "        centroids = update_centroids(clusters, centroids)\n",
    "\n",
    "    return clusters, centroids\n",
    "\n",
    "def group_data_to_cluster(centroids):\n",
    "    num_centroids = len(centroids)\n",
    "    num_datapoints = len(data)\n",
    "    # Initialise 'clusters', to later store the centroid index value to the corresponding datapoint index\n",
    "    clusters = np.zeros((num_datapoints, 1))\n",
    "\n",
    "    # loop through each datapoint\n",
    "    for index in range(num_datapoints):\n",
    "        # Initialise 'distances', to store the 'distance' value from each centroid to the datapoint\n",
    "        distances = np.zeros((num_centroids, 1))\n",
    "        # Loop through each centroid\n",
    "        for centroid_index in range(num_centroids):\n",
    "            if k_means:\n",
    "                # for k-means, find the eucledian distance from the datapoint to each centroid\n",
    "                distance_to_centroid = euclidean_distance(data[index], centroids[centroid_index])\n",
    "                # update the 'distance' value to the 'distances' array\n",
    "                distances[centroid_index] = distance_to_centroid\n",
    "\n",
    "            elif k_medians:\n",
    "                # for k-medians, find the manhattan distance from the datapoint to each centroid\n",
    "                distance_to_centroid = manhattan_distance(data[index], centroids[centroid_index])\n",
    "                # update the 'distance' value to the 'distances' array\n",
    "                distances[centroid_index] = distance_to_centroid\n",
    "\n",
    "        # Get the closest centroids index value\n",
    "        closest_centroid_index = np.argmin(distances)\n",
    "        # Assign the closest centroid index value to the corresponding datapoint index (in the 'clusters' array)\n",
    "        clusters[index] = closest_centroid_index\n",
    "#     print(clusters)\n",
    "    return clusters\n",
    "\n",
    "\n",
    "def update_centroids(clusters, centroids):\n",
    "    num_centroids = len(centroids)\n",
    "    # Iterate over the centroids, to update them based on the updated cluster data\n",
    "    for centroid_index in range(num_centroids):\n",
    "        if k_means:\n",
    "            # Compute the mean of datapoints for each cluster, and set them as the new centroids\n",
    "            centroids[centroid_index] = np.mean(data[clusters.flatten() == centroid_index], axis=0)\n",
    "        elif k_medians:\n",
    "            # Compute the median of datapoints for each cluster, and set them as the new centroids\n",
    "            centroids[centroid_index] = np.median(data[clusters.flatten() == centroid_index], axis=0)\n",
    "    return centroids\n",
    "\n",
    "\n",
    "def compute_metrics(clusters, category):\n",
    "    num_datapoints = len(data)\n",
    "    precision = np.zeros((num_datapoints))\n",
    "    recall = np.zeros((num_datapoints))\n",
    "    f_score = np.zeros((num_datapoints))\n",
    "#     print(f'num_datapoints {num_datapoints}')\n",
    "#     print(f'clusters\\n {clusters.shape}')\n",
    "#     print(f'category\\n {category}')\n",
    "    for index in range(num_datapoints):\n",
    "        # get the count of the 'category' from it's assigned 'cluster'\n",
    "#         print(index)\n",
    "#         print(clusters[index])\n",
    "#         print(clusters==clusters[index])\n",
    "#         print(category[clusters==clusters[index]])\n",
    "        category_in_cluster_count = np.count_nonzero(category[clusters==clusters[index]] == category[index])\n",
    "#         print(f'category_in_cluster_count {category_in_cluster_count}')\n",
    "        # get the total count of datapoints belonging to the 'category' in the dataset\n",
    "        category_total_count = np.count_nonzero(category==category[index])\n",
    "        # get the count of datapoints assigned to the 'cluster'\n",
    "        cluster_elements_count = np.count_nonzero(clusters == clusters[index])\n",
    "#         print(f'cluster_elements_count {cluster_elements_count}')\n",
    "        \n",
    "    #     count = np.sum(cat[clust==clust[index]]==category[index])\n",
    "        # compute precision\n",
    "        precision[index] = category_in_cluster_count / cluster_elements_count\n",
    "        recall[index] = category_in_cluster_count / category_total_count\n",
    "    #     f_score[index] = 2*precision[index]*recall[index]/(precision[index]+recall[index])\n",
    "    #     print(f'Count of category {category[index]} in cluster {clust[index]} = {category_in_cluster_count}')\n",
    "    #     print(f'Count of category {category[index]} in dataset = {category_total_count}')\n",
    "    #     print(f'Total elements in cluster {clust[index]} = {cluster_elements_count}')\n",
    "    f_score = 2*precision*recall / (precision+recall)\n",
    "    # print(precision)\n",
    "    # print(recall)\n",
    "    # print(f_score)\n",
    "    precision = np.round((np.sum(precision) / num_datapoints), 2)\n",
    "    recall = np.round((np.sum(recall) / num_datapoints), 2)\n",
    "    f_score = np.round((np.sum(f_score) / num_datapoints), 2)\n",
    "    print(f'precision: {precision}')\n",
    "    print(f'recall:    {recall}')\n",
    "    print(f'f_score:   {f_score}')\n",
    "    return precision, recall, f_score\n",
    "\n",
    "def plot_metrics(precisions, recalls, f_scoress):\n",
    "    k_choices = np.arange(1,K_MAX+1)\n",
    "    plt.plot(k_choices, precisions, label='precision')\n",
    "    plt.plot(k_choices, recalls, label='recall')\n",
    "    plt.plot(k_choices, f_scores, label='f_score')\n",
    "    plt.xlabel('K')\n",
    "    plt.ylabel('Metrics')\n",
    "    plt.xticks(np.arange(1,K_MAX+1))\n",
    "    plt.legend()\n",
    "    if l2_len_norm:\n",
    "        plt.title(\"B-CUBED Metrics for {alg}\\n with l2 length normalised data\".format(alg=\"k-means\" if k_means == True else \"k-medians\"))\n",
    "    else:\n",
    "        plt.title(\"B-CUBED Metrics for {alg}\\n without l2 length normalised data\".format(alg=\"k-means\" if k_means == True else \"k-medians\"))\n",
    "    plt.show()"
   ]
  },
  {
   "cell_type": "code",
   "execution_count": 250,
   "metadata": {
    "code_folding": []
   },
   "outputs": [
    {
     "name": "stdout",
     "output_type": "stream",
     "text": [
      "k: 1\n",
      "precision: 0.33\n",
      "recall:    1.0\n",
      "f_score:   0.47\n",
      "k: 2\n",
      "precision: 0.58\n",
      "recall:    0.9\n",
      "f_score:   0.68\n",
      "k: 3\n",
      "precision: 0.66\n",
      "recall:    0.82\n",
      "f_score:   0.72\n",
      "k: 4\n",
      "precision: 0.94\n",
      "recall:    0.94\n",
      "f_score:   0.94\n",
      "k: 5\n",
      "precision: 0.95\n",
      "recall:    0.73\n",
      "f_score:   0.8\n",
      "k: 6\n",
      "precision: 0.94\n",
      "recall:    0.67\n",
      "f_score:   0.76\n",
      "k: 7\n",
      "precision: 0.93\n",
      "recall:    0.61\n",
      "f_score:   0.71\n",
      "k: 8\n",
      "precision: 0.93\n",
      "recall:    0.5\n",
      "f_score:   0.62\n",
      "k: 9\n",
      "precision: 0.92\n",
      "recall:    0.44\n",
      "f_score:   0.57\n"
     ]
    },
    {
     "data": {
      "image/png": "[encoded data removed]",
      "text/plain": [
       "<Figure size 432x288 with 1 Axes>"
      ]
     },
     "metadata": {},
     "output_type": "display_data"
    },
    {
     "name": "stdout",
     "output_type": "stream",
     "text": [
      "k: 1\n",
      "precision: 0.33\n",
      "recall:    1.0\n",
      "f_score:   0.47\n",
      "k: 2\n",
      "precision: 0.58\n",
      "recall:    0.9\n",
      "f_score:   0.68\n",
      "k: 3\n",
      "precision: 0.66\n",
      "recall:    0.82\n",
      "f_score:   0.72\n",
      "k: 4\n",
      "precision: 0.94\n",
      "recall:    0.94\n",
      "f_score:   0.94\n",
      "k: 5\n",
      "precision: 0.95\n",
      "recall:    0.73\n",
      "f_score:   0.8\n",
      "k: 6\n",
      "precision: 0.94\n",
      "recall:    0.67\n",
      "f_score:   0.76\n",
      "k: 7\n",
      "precision: 0.93\n",
      "recall:    0.61\n",
      "f_score:   0.71\n",
      "k: 8\n",
      "precision: 0.93\n",
      "recall:    0.5\n",
      "f_score:   0.62\n",
      "k: 9\n",
      "precision: 0.92\n",
      "recall:    0.44\n",
      "f_score:   0.57\n"
     ]
    },
    {
     "data": {
      "image/png": "[encoded data removed]",
      "text/plain": [
       "<Figure size 432x288 with 1 Axes>"
      ]
     },
     "metadata": {},
     "output_type": "display_data"
    },
    {
     "name": "stdout",
     "output_type": "stream",
     "text": [
      "k: 1\n",
      "precision: 0.33\n",
      "recall:    1.0\n",
      "f_score:   0.47\n",
      "k: 2\n",
      "precision: 0.57\n",
      "recall:    0.88\n",
      "f_score:   0.66\n",
      "k: 3\n",
      "precision: 0.57\n",
      "recall:    0.71\n",
      "f_score:   0.62\n",
      "k: 4\n",
      "precision: 0.95\n",
      "recall:    0.95\n",
      "f_score:   0.95\n",
      "k: 5\n",
      "precision: 0.95\n",
      "recall:    0.71\n",
      "f_score:   0.79\n",
      "k: 6\n",
      "precision: 0.95\n",
      "recall:    0.66\n",
      "f_score:   0.76\n",
      "k: 7\n",
      "precision: 0.95\n",
      "recall:    0.61\n",
      "f_score:   0.72\n",
      "k: 8\n",
      "precision: 0.95\n",
      "recall:    0.52\n",
      "f_score:   0.63\n",
      "k: 9\n",
      "precision: 0.92\n",
      "recall:    0.45\n",
      "f_score:   0.56\n"
     ]
    },
    {
     "data": {
      "image/png": "[encoded data removed]",
      "text/plain": [
       "<Figure size 432x288 with 1 Axes>"
      ]
     },
     "metadata": {},
     "output_type": "display_data"
    },
    {
     "name": "stdout",
     "output_type": "stream",
     "text": [
      "k: 1\n",
      "precision: 0.33\n",
      "recall:    1.0\n",
      "f_score:   0.47\n",
      "k: 2\n",
      "precision: 0.57\n",
      "recall:    0.88\n",
      "f_score:   0.66\n",
      "k: 3\n",
      "precision: 0.57\n",
      "recall:    0.71\n",
      "f_score:   0.62\n",
      "k: 4\n",
      "precision: 0.95\n",
      "recall:    0.95\n",
      "f_score:   0.95\n",
      "k: 5\n",
      "precision: 0.95\n",
      "recall:    0.71\n",
      "f_score:   0.79\n",
      "k: 6\n",
      "precision: 0.95\n",
      "recall:    0.66\n",
      "f_score:   0.76\n",
      "k: 7\n",
      "precision: 0.95\n",
      "recall:    0.61\n",
      "f_score:   0.72\n",
      "k: 8\n",
      "precision: 0.95\n",
      "recall:    0.52\n",
      "f_score:   0.63\n",
      "k: 9\n",
      "precision: 0.92\n",
      "recall:    0.45\n",
      "f_score:   0.56\n"
     ]
    },
    {
     "data": {
      "image/png": "[encoded data removed]",
      "text/plain": [
       "<Figure size 432x288 with 1 Axes>"
      ]
     },
     "metadata": {},
     "output_type": "display_data"
    }
   ],
   "source": [
    "precisions = np.zeros(K_MAX)\n",
    "recalls = np.zeros(K_MAX)\n",
    "f_scores = np.zeros(K_MAX)\n",
    "# print(precisions)\n",
    "# print(len(precisions))\n",
    "\n",
    "# if user_choice == '1':\n",
    "# Run K_means without l2 length normalised data\n",
    "k_means = True\n",
    "k_medians = False\n",
    "l2_len_norm = False\n",
    "if l2_len_norm:\n",
    "    data = normalise_data(data)\n",
    "for k in range(1, K_MAX+1):\n",
    "    clusters, _ = fit_model(k, MAX_ITER)\n",
    "    precisions[k-1], recalls[k-1], f_scores[k-1] = compute_metrics(clusters, category)\n",
    "plot_metrics(precisions, recalls, f_scores)\n",
    "\n",
    "\n",
    "# elif user_choice == '2':\n",
    "# Run K_means with l2 length normalised data\n",
    "k_means = True\n",
    "k_medians = False\n",
    "l2_len_norm = True\n",
    "if l2_len_norm:\n",
    "    data = normalise_data(data)\n",
    "for k in range(1, K_MAX+1):\n",
    "    clusters, _ = fit_model(k, MAX_ITER)\n",
    "    precisions[k-1], recalls[k-1], f_scores[k-1] = compute_metrics(clusters, category)\n",
    "plot_metrics(precisions, recalls, f_scores)\n",
    "\n",
    "# elif user_choice == '3':\n",
    "# Run K_medians without l2 length normalised data\n",
    "k_means = False\n",
    "k_medians = True\n",
    "l2_len_norm = False\n",
    "if l2_len_norm:\n",
    "    data = normalise_data(data)\n",
    "for k in range(1, K_MAX+1):\n",
    "    clusters, _ = fit_model(k, MAX_ITER)\n",
    "    precisions[k-1], recalls[k-1], f_scores[k-1] = compute_metrics(clusters, category)\n",
    "plot_metrics(precisions, recalls, f_scores)\n",
    "\n",
    "# elif user_choice == '4':\n",
    "    # Run K_medians with l2 length normalised data\n",
    "k_means = False\n",
    "k_medians = True\n",
    "l2_len_norm = True\n",
    "if l2_len_norm:\n",
    "    data = normalise_data(data)\n",
    "for k in range(1, K_MAX+1):\n",
    "    clusters, _ = fit_model(k, MAX_ITER)\n",
    "    precisions[k-1], recalls[k-1], f_scores[k-1] = compute_metrics(clusters, category)\n",
    "plot_metrics(precisions, recalls, f_scores)\n",
    "\n",
    "# print(precisions)\n",
    "# print(\"\\nKMeans Centroids from computed for k = 4:\")\n",
    "# print(centroids)"
   ]
  },
  {
   "cell_type": "code",
   "execution_count": 153,
   "metadata": {
    "code_folding": []
   },
   "outputs": [
    {
     "name": "stdout",
     "output_type": "stream",
     "text": [
      "\n",
      "\n",
      "Output from SKLEARN\n",
      "[[ 0.6199386   0.2911751   0.17927987 ... -0.07192843  0.25407268\n",
      "   0.22792947]\n",
      " [-0.31900976 -0.19191308  0.19649308 ... -0.47228604 -0.13132496\n",
      "   0.02679508]\n",
      " [-0.06488603 -0.18794353 -0.28304213 ... -0.1948869   0.05179154\n",
      "   0.18598644]\n",
      " ...\n",
      " [-0.17600884 -0.146484   -0.0198708  ... -0.04922548 -0.29319585\n",
      "   0.10339637]\n",
      " [ 0.35948256  0.28126306 -0.20183324 ... -0.07394777 -0.08842228\n",
      "   0.32415219]\n",
      " [-0.00719689  0.04964376 -0.18438088 ... -0.13932188 -0.06420783\n",
      "   0.27140012]]\n"
     ]
    }
   ],
   "source": [
    "#### ******************* IGNORE CODE BELOW ********************\n",
    "\n",
    "#### TESTING THE CODE\n",
    "\n",
    "from sklearn.cluster import KMeans\n",
    "\n",
    "model = KMeans(n_clusters=k)\n",
    "model.fit(data)\n",
    "print(\"\\n\\nOutput from SKLEARN\")\n",
    "print(model.cluster_centers_)"
   ]
  },
  {
   "cell_type": "code",
   "execution_count": null,
   "metadata": {},
   "outputs": [],
   "source": [
    "d = np.array([[1,2,3], \n",
    "              [2.3,5.2,6],\n",
    "              [9,11,7]])\n",
    "print(d)\n",
    "np.median(d, axis=0)"
   ]
  },
  {
   "cell_type": "code",
   "execution_count": 92,
   "metadata": {},
   "outputs": [
    {
     "name": "stdout",
     "output_type": "stream",
     "text": [
      "[1 2 3 1 3 2 2 3 2 3]\n",
      "[5 6 5 4 5 6 5 5 4 7]\n"
     ]
    }
   ],
   "source": [
    "cat = np.array((1,2,3,1,3,2,2,3,2,3))\n",
    "print(cat)\n",
    "\n",
    "clust   = np.array((5,6,5,4,5,6,5,5,4,7))\n",
    "print(clust)"
   ]
  },
  {
   "cell_type": "code",
   "execution_count": 93,
   "metadata": {},
   "outputs": [
    {
     "name": "stdout",
     "output_type": "stream",
     "text": [
      "(2, 10)\n"
     ]
    },
    {
     "data": {
      "text/plain": [
       "array([[1, 2, 3, 1, 3, 2, 2, 3, 2, 3],\n",
       "       [5, 6, 5, 4, 5, 6, 5, 5, 4, 7]])"
      ]
     },
     "execution_count": 93,
     "metadata": {},
     "output_type": "execute_result"
    }
   ],
   "source": [
    "comb = np.vstack((cat, clust))\n",
    "print(comb.shape)\n",
    "comb"
   ]
  },
  {
   "cell_type": "code",
   "execution_count": 94,
   "metadata": {},
   "outputs": [
    {
     "data": {
      "text/plain": [
       "array([4, 0])"
      ]
     },
     "execution_count": 94,
     "metadata": {},
     "output_type": "execute_result"
    }
   ],
   "source": [
    "np.count_nonzero(comb==2, axis=1)"
   ]
  },
  {
   "cell_type": "code",
   "execution_count": 95,
   "metadata": {},
   "outputs": [
    {
     "data": {
      "text/plain": [
       "array([0, 2, 4, 4])"
      ]
     },
     "execution_count": 95,
     "metadata": {},
     "output_type": "execute_result"
    }
   ],
   "source": [
    "np.bincount(cat)"
   ]
  },
  {
   "cell_type": "code",
   "execution_count": 96,
   "metadata": {},
   "outputs": [
    {
     "name": "stdout",
     "output_type": "stream",
     "text": [
      "[1 3 3 2 3]\n",
      "[False False False  True False]\n",
      "[2]\n"
     ]
    },
    {
     "data": {
      "text/plain": [
       "1"
      ]
     },
     "execution_count": 96,
     "metadata": {},
     "output_type": "execute_result"
    }
   ],
   "source": [
    "mask = cat[clust==5]\n",
    "np.count_nonzero(mask[mask==2])\n",
    "np.count_nonzero(mask==2)\n",
    "\n",
    "print(mask)\n",
    "print(mask==2)\n",
    "print(mask[mask==2])\n",
    "\n",
    "np.count_nonzero(cat[clust==5]==2)"
   ]
  },
  {
   "cell_type": "code",
   "execution_count": 97,
   "metadata": {},
   "outputs": [
    {
     "name": "stdout",
     "output_type": "stream",
     "text": [
      "[0.2 1.  0.6 0.5 0.6 1.  0.2 0.6 0.5 1. ]\n",
      "[0.5  0.5  0.75 0.5  0.75 0.5  0.25 0.75 0.25 0.25]\n",
      "[0.28571429 0.66666667 0.66666667 0.5        0.66666667 0.66666667\n",
      " 0.22222222 0.66666667 0.33333333 0.4       ]\n",
      "0.62\n",
      "0.5\n",
      "0.5074603174603174\n"
     ]
    }
   ],
   "source": [
    "len_data = len(clust)\n",
    "precision = np.zeros((len_data))\n",
    "recall = np.zeros((len_data))\n",
    "f_score = np.zeros((len_data))\n",
    "for i in range(len_data):\n",
    "    # get the count of the 'category' from it's assigned 'cluster'\n",
    "    category_in_cluster_count = np.count_nonzero(cat[clust == clust[i]] == cat[i])\n",
    "    # get the total count of datapoints belonging to the 'category' in the dataset\n",
    "    category_total_count = np.count_nonzero(cat==cat[i])\n",
    "    # get the count of datapoints assigned to the 'cluster'\n",
    "    cluster_elements_count = np.count_nonzero(clust == clust[i])\n",
    "#     count = np.sum(cat[clust==clust[i]]==cat[i])\n",
    "    # compute precision\n",
    "    precision[i] = category_in_cluster_count / cluster_elements_count\n",
    "    recall[i] = category_in_cluster_count / category_total_count\n",
    "#     f_score[i] = 2*precision[i]*recall[i]/(precision[i]+recall[i])\n",
    "#     print(f'Count of category {cat[i]} in cluster {clust[i]} = {category_in_cluster_count}')\n",
    "#     print(f'Count of category {cat[i]} in dataset = {category_total_count}')\n",
    "#     print(f'Total elements in cluster {clust[i]} = {cluster_elements_count}')\n",
    "f_score = 2*precision*recall/(precision+recall)\n",
    "print(precision)\n",
    "print(recall)\n",
    "print(f_score)\n",
    "print(np.sum(precision)/len_data)\n",
    "print(np.sum(recall)/len_data)\n",
    "print(np.sum(f_score)/len_data)"
   ]
  },
  {
   "cell_type": "code",
   "execution_count": 99,
   "metadata": {},
   "outputs": [
    {
     "name": "stdout",
     "output_type": "stream",
     "text": [
      "[1 2 3 1 3 2 2 3 2 3]\n",
      "[5 6 5 4 5 6 5 5 4 7]\n"
     ]
    }
   ],
   "source": [
    "print(cat)\n",
    "print(clust)"
   ]
  },
  {
   "cell_type": "code",
   "execution_count": 101,
   "metadata": {},
   "outputs": [
    {
     "name": "stdout",
     "output_type": "stream",
     "text": [
      "1\n",
      "Count of category 1 in cluster 5 = 1\n",
      "2\n",
      "Count of category 2 in cluster 6 = 2\n",
      "3\n",
      "Count of category 3 in cluster 5 = 3\n",
      "1\n",
      "Count of category 1 in cluster 4 = 1\n",
      "3\n",
      "Count of category 3 in cluster 5 = 3\n",
      "2\n",
      "Count of category 2 in cluster 6 = 2\n",
      "1\n",
      "Count of category 2 in cluster 5 = 1\n",
      "3\n",
      "Count of category 3 in cluster 5 = 3\n",
      "1\n",
      "Count of category 2 in cluster 4 = 1\n",
      "1\n",
      "Count of category 3 in cluster 7 = 1\n"
     ]
    }
   ],
   "source": [
    "for i in range(10):\n",
    "    mask = cat[clust==clust[i]]\n",
    "#     count = np.count_nonzero(mask==cat[i])\n",
    "    count = np.count_nonzero(cat[clust==clust[i]] == cat[i])\n",
    "    print(count)\n",
    "    print(f'Count of category {cat[i]} in cluster {clust[i]} = {count}')\n",
    "# mask"
   ]
  },
  {
   "cell_type": "code",
   "execution_count": 102,
   "metadata": {},
   "outputs": [
    {
     "ename": "IndexError",
     "evalue": "boolean index did not match indexed array along dimension 0; dimension is 5 but corresponding boolean dimension is 10",
     "output_type": "error",
     "traceback": [
      "\u001b[0;31m---------------------------------------------------------------------------\u001b[0m",
      "\u001b[0;31mIndexError\u001b[0m                                Traceback (most recent call last)",
      "\u001b[0;32m/var/folders/9g/_31yc5b92m96cxdj9hkt6kd80000gn/T/ipykernel_11759/51572080.py\u001b[0m in \u001b[0;36m<module>\u001b[0;34m\u001b[0m\n\u001b[0;32m----> 1\u001b[0;31m \u001b[0mcat\u001b[0m\u001b[0;34m[\u001b[0m\u001b[0mclust\u001b[0m\u001b[0;34m==\u001b[0m\u001b[0;36m5\u001b[0m\u001b[0;34m]\u001b[0m\u001b[0;34m[\u001b[0m\u001b[0mcat\u001b[0m\u001b[0;34m==\u001b[0m\u001b[0;36m2\u001b[0m\u001b[0;34m]\u001b[0m\u001b[0;34m\u001b[0m\u001b[0;34m\u001b[0m\u001b[0m\n\u001b[0m",
      "\u001b[0;31mIndexError\u001b[0m: boolean index did not match indexed array along dimension 0; dimension is 5 but corresponding boolean dimension is 10"
     ]
    }
   ],
   "source": [
    "cat[clust==5][cat==2]"
   ]
  },
  {
   "cell_type": "code",
   "execution_count": 206,
   "metadata": {},
   "outputs": [
    {
     "data": {
      "text/plain": [
       "array([3, 3, 3, 3, 5, 5, 5, 5, 5])"
      ]
     },
     "execution_count": 206,
     "metadata": {},
     "output_type": "execute_result"
    }
   ],
   "source": [
    "comb[(comb==5) | (comb==3)]"
   ]
  },
  {
   "cell_type": "code",
   "execution_count": null,
   "metadata": {},
   "outputs": [],
   "source": [
    "# # select only classes needed for classification\n",
    "# data = data[np.where((data[:,-1] == positive_class) | (data[:,-1] == negative_class))]\n",
    "\n",
    "# # converting class labels to numeric values [+1 or -1] based on the 1 v/s rest approach\n",
    "# data[data=='class-1'] = 1\n",
    "# data[(data=='class-2') | (data=='class-3')] = -1"
   ]
  },
  {
   "cell_type": "code",
   "execution_count": 229,
   "metadata": {},
   "outputs": [
    {
     "data": {
      "text/plain": [
       "2"
      ]
     },
     "execution_count": 229,
     "metadata": {},
     "output_type": "execute_result"
    }
   ],
   "source": [
    "np.count_nonzero(np.array((0,0,1))==0)"
   ]
  },
  {
   "cell_type": "code",
   "execution_count": 22,
   "metadata": {},
   "outputs": [
    {
     "data": {
      "image/png": "[encoded data removed]",
      "text/plain": [
       "<Figure size 432x288 with 1 Axes>"
      ]
     },
     "metadata": {},
     "output_type": "display_data"
    }
   ],
   "source": [
    "import numpy\n",
    "from matplotlib import pyplot\n",
    "\n",
    "x = numpy.arange(10)\n",
    "y = numpy.array([5,3,4,2,7,5,4,6,3,2])\n",
    "\n",
    "fig = pyplot.figure()\n",
    "ax = fig.add_subplot(111)\n",
    "ax.set_ylim(0,10)\n",
    "pyplot.plot(x,y)\n",
    "for i,j in zip(x,y):\n",
    "    ax.annotate(str(j),xy=(i,j))\n",
    "\n",
    "pyplot.show()"
   ]
  },
  {
   "cell_type": "code",
   "execution_count": 224,
   "metadata": {},
   "outputs": [
    {
     "data": {
      "text/plain": [
       "array([[-0.00246962, -0.0123844 , -0.05151071, ..., -0.00356689,\n",
       "         0.00060593, -0.00553797],\n",
       "       [ 0.0668472 , -0.12827823, -0.04169634, ..., -0.06260614,\n",
       "        -0.03495518,  0.00399316],\n",
       "       [-0.04366553,  0.05058699, -0.05453022, ..., -0.01941572,\n",
       "        -0.03058343,  0.00509732],\n",
       "       ...,\n",
       "       [-0.0521836 , -0.07760682, -0.09517426, ...,  0.00377847,\n",
       "         0.02026048, -0.05548325],\n",
       "       [-0.02426032, -0.05379176, -0.06635299, ..., -0.09533733,\n",
       "        -0.09987333,  0.04280068],\n",
       "       [-0.07969202, -0.05043384, -0.01694052, ..., -0.00074457,\n",
       "        -0.11477028,  0.01187741]])"
      ]
     },
     "execution_count": 224,
     "metadata": {},
     "output_type": "execute_result"
    }
   ],
   "source": [
    "c = np.linalg.norm(data,axis=1).reshape(-1,1)\n",
    "c\n",
    "# np.linalg.norm(data[0])\n",
    "data_normalised = (1/c)*data\n",
    "data_normalised"
   ]
  },
  {
   "cell_type": "code",
   "execution_count": 225,
   "metadata": {},
   "outputs": [
    {
     "data": {
      "text/plain": [
       "array([1., 1., 1., 1., 1., 1., 1., 1., 1., 1., 1., 1., 1., 1., 1., 1., 1.,\n",
       "       1., 1., 1., 1., 1., 1., 1., 1., 1., 1., 1., 1., 1., 1., 1., 1., 1.,\n",
       "       1., 1., 1., 1., 1., 1., 1., 1., 1., 1., 1., 1., 1., 1., 1., 1., 1.,\n",
       "       1., 1., 1., 1., 1., 1., 1., 1., 1., 1., 1., 1., 1., 1., 1., 1., 1.,\n",
       "       1., 1., 1., 1., 1., 1., 1., 1., 1., 1., 1., 1., 1., 1., 1., 1., 1.,\n",
       "       1., 1., 1., 1., 1., 1., 1., 1., 1., 1., 1., 1., 1., 1., 1., 1., 1.,\n",
       "       1., 1., 1., 1., 1., 1., 1., 1., 1., 1., 1., 1., 1., 1., 1., 1., 1.,\n",
       "       1., 1., 1., 1., 1., 1., 1., 1., 1., 1., 1., 1., 1., 1., 1., 1., 1.,\n",
       "       1., 1., 1., 1., 1., 1., 1., 1., 1., 1., 1., 1., 1., 1., 1., 1., 1.,\n",
       "       1., 1., 1., 1., 1., 1., 1., 1., 1., 1., 1., 1., 1., 1., 1., 1., 1.,\n",
       "       1., 1., 1., 1., 1., 1., 1., 1., 1., 1., 1., 1., 1., 1., 1., 1., 1.,\n",
       "       1., 1., 1., 1., 1., 1., 1., 1., 1., 1., 1., 1., 1., 1., 1., 1., 1.,\n",
       "       1., 1., 1., 1., 1., 1., 1., 1., 1., 1., 1., 1., 1., 1., 1., 1., 1.,\n",
       "       1., 1., 1., 1., 1., 1., 1., 1., 1., 1., 1., 1., 1., 1., 1., 1., 1.,\n",
       "       1., 1., 1., 1., 1., 1., 1., 1., 1., 1., 1., 1., 1., 1., 1., 1., 1.,\n",
       "       1., 1., 1., 1., 1., 1., 1., 1., 1., 1., 1., 1., 1., 1., 1., 1., 1.,\n",
       "       1., 1., 1., 1., 1., 1., 1., 1., 1., 1., 1., 1., 1., 1., 1., 1., 1.,\n",
       "       1., 1., 1., 1., 1., 1., 1., 1., 1., 1., 1., 1., 1., 1., 1., 1., 1.,\n",
       "       1., 1., 1., 1., 1., 1., 1., 1., 1., 1., 1., 1., 1., 1., 1., 1., 1.,\n",
       "       1., 1., 1., 1.])"
      ]
     },
     "execution_count": 225,
     "metadata": {},
     "output_type": "execute_result"
    }
   ],
   "source": [
    "np.linalg.norm(data_normalised,axis=1)"
   ]
  },
  {
   "cell_type": "code",
   "execution_count": 188,
   "metadata": {},
   "outputs": [
    {
     "data": {
      "text/plain": [
       "6477.606833760663"
      ]
     },
     "execution_count": 188,
     "metadata": {},
     "output_type": "execute_result"
    }
   ],
   "source": [
    "np.linalg.norm(data_normalised,axis=0)"
   ]
  },
  {
   "cell_type": "code",
   "execution_count": null,
   "metadata": {},
   "outputs": [],
   "source": []
  }
 ],
 "metadata": {
  "colab": {
   "collapsed_sections": [],
   "name": "k-means-clustering.ipynb",
   "provenance": []
  },
  "hide_input": false,
  "kernelspec": {
   "display_name": "Python 3.8.12 64-bit ('pytorch_env': conda)",
   "language": "python",
   "name": "python3812jvsc74a57bd057d879c1bab31ddce3f98747a90aac1ecdf0d747d4f9b6f921c92f41b19b21c9"
  },
  "language_info": {
   "codemirror_mode": {
    "name": "ipython",
    "version": 3
   },
   "file_extension": ".py",
   "mimetype": "text/x-python",
   "name": "python",
   "nbconvert_exporter": "python",
   "pygments_lexer": "ipython3",
   "version": "3.8.12"
  },
  "toc": {
   "base_numbering": 1,
   "nav_menu": {},
   "number_sections": true,
   "sideBar": true,
   "skip_h1_title": false,
   "title_cell": "Table of Contents",
   "title_sidebar": "Contents",
   "toc_cell": false,
   "toc_position": {},
   "toc_section_display": true,
   "toc_window_display": false
  }
 },
 "nbformat": 4,
 "nbformat_minor": 1
}
